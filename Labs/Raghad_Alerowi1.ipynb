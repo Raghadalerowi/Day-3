{
 "cells": [
  {
   "cell_type": "markdown",
   "metadata": {},
   "source": [
    "# Python_Lab_1.1\n"
   ]
  },
  {
   "cell_type": "markdown",
   "metadata": {},
   "source": [
    "### Task 1\n",
    "1. Print a welcome message.\n",
    "2. Create variables to store the following details:\n",
    "    - Your name (string)\n",
    "    - Your age (integer)\n",
    "    - Your height (float)\n",
    "    - Whether you are a student (boolean)\n",
    "3. Print these details.\n"
   ]
  },
  {
   "cell_type": "code",
   "execution_count": 3,
   "metadata": {},
   "outputs": [
    {
     "name": "stdout",
     "output_type": "stream",
     "text": [
      "Greeting User!\n",
      "Name: is Raghad alerowi\n",
      "Age: 25\n",
      "Height: 149 cm\n",
      "Is a Student: True\n"
     ]
    }
   ],
   "source": [
    "print(\"Greeting User!\")\n",
    "name = \"is Raghad alerowi\"        \n",
    "age = 25                 \n",
    "height = 149             \n",
    "is_student = True        \n",
    "print(\"Name:\", name)\n",
    "print(\"Age:\", age)\n",
    "print(\"Height:\", height, \"cm\")\n",
    "print(\"Is a Student:\", is_student)"
   ]
  },
  {
   "cell_type": "markdown",
   "metadata": {},
   "source": [
    "### Task 2\n",
    " 1. Create a list of 5 favorite fruits.\n",
    " 2. Create a list with the price of each fruit.\n",
    " 3. Print the data types of these lists."
   ]
  },
  {
   "cell_type": "code",
   "execution_count": 5,
   "metadata": {},
   "outputs": [
    {
     "name": "stdout",
     "output_type": "stream",
     "text": [
      "Data type of favorite_fruits: <class 'list'>\n",
      "Data type of fruit_prices: <class 'list'>\n",
      "Favorite fruits:\n",
      "Apple\n",
      "Banana\n",
      "Cherry\n",
      "Mango\n",
      "Orange\n"
     ]
    }
   ],
   "source": [
    "favfruits = [\"Apple\", \"Banana\", \"Cherry\", \"Mango\", \"Orange\"]\n",
    "fruitprices = [1.2, 0.5, 2.0, 1.5, 0.75]  \n",
    "\n",
    "\n",
    "print(\"Data type of favorite_fruits:\", type(favfruits))\n",
    "print(\"Data type of fruit_prices:\", type(fruitprices))\n",
    "\n",
    "favfruits = [\"Apple\", \"Banana\", \"Cherry\", \"Mango\", \"Orange\"]\n",
    "print(\"Favorite fruits:\")\n",
    "for fruit in favfruits:\n",
    "    print(fruit)\n"
   ]
  },
  {
   "cell_type": "markdown",
   "metadata": {},
   "source": [
    "### Task 3\n",
    "1. Print the names of all fruits using a loop.\n",
    "2. Using a while loop and input built-in function, do the following:\n",
    "    - Ask the the user : \"what is the product of 7 * 24 ?\"\n",
    "    - check if the answer is right then exit the loop and print \"You answered this Question correctly\".\n",
    "    - if the answer is wrong, then print \"Your Answer is wrong try again..\" and show the user the question again.\n",
    "3. Build a program that takes one defined variable of type int, then it prints out the result formatted like the following pattern (if we give it 5 for example):\n",
    "\n",
    "    5 4 3 2 1\n",
    "\n",
    "    4 3 2 1\n",
    "\n",
    "    3 2 1\n",
    "\n",
    "    2 1\n",
    "    \n",
    "    1"
   ]
  },
  {
   "cell_type": "code",
   "execution_count": 6,
   "metadata": {},
   "outputs": [
    {
     "name": "stdout",
     "output_type": "stream",
     "text": [
      "1 sol:\n",
      "Favorite fruits:\n",
      "Apple\n",
      "Banana\n",
      "Cherry\n",
      "Mango\n",
      "Orange\n",
      "2 sol:\n"
     ]
    },
    {
     "name": "stdin",
     "output_type": "stream",
     "text": [
      "What is the product of 7 * 24?  43\n"
     ]
    },
    {
     "name": "stdout",
     "output_type": "stream",
     "text": [
      "Your answer is wrong. Try again...\n"
     ]
    },
    {
     "name": "stdin",
     "output_type": "stream",
     "text": [
      "What is the product of 7 * 24?  168\n"
     ]
    },
    {
     "name": "stdout",
     "output_type": "stream",
     "text": [
      "You answered this question correctly.\n",
      "3 sol:\n",
      "\n",
      "Pattern for 5:\n",
      "5 4 3 2 1 \n",
      "4 3 2 1 \n",
      "3 2 1 \n",
      "2 1 \n",
      "1 \n"
     ]
    }
   ],
   "source": [
    "print(\"1 sol:\")\n",
    "\n",
    "favfruits = [\"Apple\", \"Banana\", \"Cherry\", \"Mango\", \"Orange\"]\n",
    "print(\"Favorite fruits:\")\n",
    "for fruit in favfruits:\n",
    "    print(fruit)\n",
    "\n",
    "print(\"2 sol:\") \n",
    "\n",
    "correct_answer = 7 * 24\n",
    "while True:\n",
    "    user_answer = int(input(\"What is the product of 7 * 24? \"))\n",
    "    if user_answer == correct_answer:\n",
    "        print(\"You answered this question correctly.\")\n",
    "        break\n",
    "    else:\n",
    "        print(\"Your answer is wrong. Try again...\")\n",
    "        \n",
    "print(\"3 sol:\") \n",
    "\n",
    "def print_pattern(n):\n",
    "    for i in range(n, 0, -1):\n",
    "        for j in range(i, 0, -1):\n",
    "            print(j, end=\" \")\n",
    "        print()  \n",
    "\n",
    "# Example with the number 5\n",
    "print(\"\\nPattern for 5:\")\n",
    "print_pattern(5)\n"
   ]
  },
  {
   "cell_type": "markdown",
   "metadata": {},
   "source": [
    "### Task 4\n",
    "You want to recommend a movie to a friend based on the rating and popularity. To accomplish this do the following:\n",
    "\n",
    "- Create a variable for the movie (choose any movie you like).\n",
    "- Create a variable of type int to hold the rating of the movie out of 5. Give this movie rate = 3\n",
    "- Create a popularity score of type float, let it be 72.65\n",
    "- Using an if statement:\n",
    "    - Check if the movie rating is 4 or greater and the popularity is greater than 80, print \"Highly recommended\".\n",
    "    - Else if the movie rating is 3 or greater and the popularity is greater than 70, print \"I recommended it, It is good\".\n",
    "    - Else if the movie rating is 2 or less and the popularity is greater than 60, print \"You should check it out!\".\n",
    "    - Else the movie rating is 2 or less and the popularity is less than 50, print \"Don't watch it, It is a waste of time\"."
   ]
  },
  {
   "cell_type": "code",
   "execution_count": 8,
   "metadata": {},
   "outputs": [
    {
     "name": "stdout",
     "output_type": "stream",
     "text": [
      "I recommend it, it is good\n"
     ]
    }
   ],
   "source": [
    "movie = \"Spirited Away\"\n",
    "\n",
    "rating = 3  # out of 5\n",
    "popularity = 72.65  # Popularity score\n",
    "\n",
    "if rating >= 4 and popularity > 80:\n",
    "    print(\"Highly recommended\")\n",
    "elif rating >= 3 and popularity > 70:\n",
    "    print(\"I recommend it, it is good\")\n",
    "elif rating <= 2 and popularity > 60:\n",
    "    print(\"You should check it out!\")\n",
    "else:  # Covers the case for rating <= 2 and popularity < 50\n",
    "    print(\"Don't watch it, it is a waste of time\")\n"
   ]
  },
  {
   "cell_type": "code",
   "execution_count": null,
   "metadata": {},
   "outputs": [],
   "source": []
  }
 ],
 "metadata": {
  "kernelspec": {
   "display_name": "Python 3 (ipykernel)",
   "language": "python",
   "name": "python3"
  },
  "language_info": {
   "codemirror_mode": {
    "name": "ipython",
    "version": 3
   },
   "file_extension": ".py",
   "mimetype": "text/x-python",
   "name": "python",
   "nbconvert_exporter": "python",
   "pygments_lexer": "ipython3",
   "version": "3.12.4"
  }
 },
 "nbformat": 4,
 "nbformat_minor": 4
}
