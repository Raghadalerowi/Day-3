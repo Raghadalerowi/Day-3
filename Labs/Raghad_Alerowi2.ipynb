{
 "cells": [
  {
   "cell_type": "markdown",
   "metadata": {},
   "source": [
    "# Python_Lab_1.2"
   ]
  },
  {
   "cell_type": "markdown",
   "metadata": {},
   "source": [
    "### Task 1: \n",
    "1. Create a tuple with the following details:\n",
    "    - Your favorite movie (string)\n",
    "    - The year it was released (integer)\n",
    "    - Its rating out of 10 (float)\n",
    "    - Whether you have watched it (boolean)\n",
    "2. Print the detailes"
   ]
  },
  {
   "cell_type": "code",
   "execution_count": 1,
   "metadata": {},
   "outputs": [
    {
     "name": "stdout",
     "output_type": "stream",
     "text": [
      "Favorite Movie Details:\n",
      "Title: Spirited Away\n",
      "Year Released: 2001\n",
      "Rating out of 10: 8.6\n",
      "Watched: True\n"
     ]
    }
   ],
   "source": [
    "favorite_movie = (\"Spirited Away\", 2001, 8.6, True)\n",
    "\n",
    "print(\"Favorite Movie Details:\")\n",
    "print(\"Title:\", favorite_movie[0])\n",
    "print(\"Year Released:\", favorite_movie[1])\n",
    "print(\"Rating out of 10:\", favorite_movie[2])\n",
    "print(\"Watched:\", favorite_movie[3])\n"
   ]
  },
  {
   "cell_type": "markdown",
   "metadata": {},
   "source": [
    "### Task 2:\n",
    "1. Create a set of 5 favorite colors.\n",
    "2. Print all the colors"
   ]
  },
  {
   "cell_type": "code",
   "execution_count": 2,
   "metadata": {},
   "outputs": [
    {
     "name": "stdout",
     "output_type": "stream",
     "text": [
      "Favorite Colors:\n",
      "Green\n",
      "Red\n",
      "Purple\n",
      "Black\n",
      "Blue\n"
     ]
    }
   ],
   "source": [
    "favorite_colors = {\"Red\", \"Blue\", \"Green\", \"Black\", \"Purple\"}\n",
    "\n",
    "print(\"Favorite Colors:\")\n",
    "for color in favorite_colors:\n",
    "    print(color)\n"
   ]
  },
  {
   "cell_type": "markdown",
   "metadata": {},
   "source": [
    "### Task 3:\n",
    "1. Create a dictionary to store information about 3 friends (name as key and a tuple with age and favorite hobby as value).\n",
    "2. Print the details of all friends."
   ]
  },
  {
   "cell_type": "code",
   "execution_count": 5,
   "metadata": {},
   "outputs": [
    {
     "name": "stdout",
     "output_type": "stream",
     "text": [
      "Friends Details:\n",
      "Name: Raghad, Age: 22, Favorite Hobby: Programming\n",
      "Name: Rooa, Age: 20, Favorite Hobby: Gaming\n",
      "Name: Hoor, Age: 15, Favorite Hobby: Reading , Painting\n"
     ]
    }
   ],
   "source": [
    "\n",
    "friends = {\n",
    "    \"Raghad\": (22, \"Programming\"),\n",
    "    \"Rooa\": (20, \"Gaming\"),\n",
    "    \"Hoor\": (15, \"Reading , Painting\"),\n",
    "}\n",
    "\n",
    "\n",
    "print(\"Friends Details:\")\n",
    "for name, (age, hobby) in friends.items():\n",
    "    print(f\"Name: {name}, Age: {age}, Favorite Hobby: {hobby}\")\n"
   ]
  },
  {
   "cell_type": "markdown",
   "metadata": {},
   "source": [
    "### Task 4:\n",
    "1. Check if you have watched the movie and print an appropriate message.\n",
    "1. Check if a specific color is in your favorite colors set and print its availability status."
   ]
  },
  {
   "cell_type": "code",
   "execution_count": 6,
   "metadata": {},
   "outputs": [
    {
     "name": "stdout",
     "output_type": "stream",
     "text": [
      "You have watched the movie: The Great Mouse Detective\n",
      "Blue is in your favorite colors.\n"
     ]
    }
   ],
   "source": [
    "\n",
    "favorite_movie = (\"The Great Mouse Detective\", 1986, 8.0, True)  \n",
    "watched_status = favorite_movie[3]  \n",
    "\n",
    "if watched_status:\n",
    "    print(\"You have watched the movie:\", favorite_movie[0])\n",
    "else:\n",
    "    print(\"You have not watched the movie:\", favorite_movie[0])\n",
    "\n",
    "\n",
    "favorite_colors = {\"Red\", \"Blue\", \"Green\", \"Black\", \"Purple\"}\n",
    "\n",
    "specific_color = \"Blue\"  \n",
    "if specific_color in favorite_colors:\n",
    "    print(f\"{specific_color} is in your favorite colors.\")\n",
    "else:\n",
    "    print(f\"{specific_color} is not in your favorite colors.\")\n"
   ]
  },
  {
   "cell_type": "markdown",
   "metadata": {},
   "source": []
  }
 ],
 "metadata": {
  "kernelspec": {
   "display_name": "Python 3 (ipykernel)",
   "language": "python",
   "name": "python3"
  },
  "language_info": {
   "codemirror_mode": {
    "name": "ipython",
    "version": 3
   },
   "file_extension": ".py",
   "mimetype": "text/x-python",
   "name": "python",
   "nbconvert_exporter": "python",
   "pygments_lexer": "ipython3",
   "version": "3.12.4"
  }
 },
 "nbformat": 4,
 "nbformat_minor": 4
}
